{
 "cells": [
  {
   "cell_type": "code",
   "execution_count": 1,
   "metadata": {},
   "outputs": [
    {
     "name": "stdout",
     "output_type": "stream",
     "text": [
      "testando 2 4 6 True\n"
     ]
    }
   ],
   "source": [
    "n1 = 2\n",
    "n2 = 4\n",
    "n3 = 6\n",
    "test = True\n",
    "print(f\"testando\", n1, n2, n3, test)"
   ]
  },
  {
   "cell_type": "code",
   "execution_count": 3,
   "metadata": {},
   "outputs": [
    {
     "name": "stdout",
     "output_type": "stream",
     "text": [
      "2meio4final"
     ]
    }
   ],
   "source": [
    "print(n1, n2, sep='meio', end='final')"
   ]
  },
  {
   "cell_type": "code",
   "execution_count": 6,
   "metadata": {},
   "outputs": [
    {
     "name": "stdout",
     "output_type": "stream",
     "text": [
      "10 // 3 = 3\n",
      "10 % 3 = 1\n",
      "2.34 * 2.58 = 6.0371999999999995\n",
      "4 / 2 = 2.0\n",
      "(2 + 3) * (3 - 1) = 10\n"
     ]
    }
   ],
   "source": [
    "n1 = 10 // 3\n",
    "print('10 // 3 =', n1)\n",
    "n1 = 10 % 3\n",
    "print('10 % 3 =', n1)\n",
    "nr = 2.34 * 2.58\n",
    "print('2.34 * 2.58 =', nr)\n",
    "nr = 4 / 2\n",
    "print('4 / 2 =', nr)\n",
    "nr = (2 + 3) * (3 - 1)\n",
    "print('(2 + 3) * (3 - 1) =', nr)"
   ]
  },
  {
   "cell_type": "code",
   "execution_count": 7,
   "metadata": {},
   "outputs": [
    {
     "name": "stdout",
     "output_type": "stream",
     "text": [
      "informe os dados\n"
     ]
    }
   ],
   "source": [
    "print('informe os dados')\n",
    "nome = input('nome: ')\n",
    "sobrenome = input('sobrenome: ')\n",
    "idade = int(input('idade: '))\n",
    "\n",
    "print(nome + ' ' + sobrenome + ', ' + idade)\n",
    "\n",
    "#não dê run no jupiter."
   ]
  },
  {
   "cell_type": "markdown",
   "metadata": {},
   "source": [
    "## USANDO A BIBLIOTECA MATH"
   ]
  },
  {
   "cell_type": "code",
   "execution_count": 17,
   "metadata": {},
   "outputs": [
    {
     "name": "stdout",
     "output_type": "stream",
     "text": [
      "Vamos calcular uma equação do segundo grau\n",
      "Valor de delta: -31\n",
      "A equação não possui raízes reais.\n"
     ]
    }
   ],
   "source": [
    "import math\n",
    "\n",
    "print(\"Vamos calcular uma equação do segundo grau\")\n",
    "A = 2\n",
    "B = 3\n",
    "C = 5\n",
    "\n",
    "if A != 0:\n",
    "    delta = (B**2 - (4 * A * C))  # Cálculo do discriminante\n",
    "    \n",
    "    print(f\"Valor de delta: {delta}\")  # Para depuração, para saber o valor exato de delta\n",
    "\n",
    "    if delta < 0:\n",
    "        print(\"A equação não possui raízes reais.\")\n",
    "    elif delta == 0:\n",
    "        print(\"A equação possui uma raiz única.\")\n",
    "        x = -B / (2 * A)\n",
    "        print(\"Raiz única: \", x)\n",
    "    else:\n",
    "        x1 = (-B + math.sqrt(delta)) / (2 * A)\n",
    "        x2 = (-B - math.sqrt(delta)) / (2 * A)\n",
    "\n",
    "        print(\"Raiz 1: \", x1)\n",
    "        print(\"Raiz 2: \", x2)\n"
   ]
  },
  {
   "cell_type": "markdown",
   "metadata": {},
   "source": [
    "## ESTRUTURAS DE REPETIÇÃO\n",
    "\n",
    "- As estruturas de repetição possibilitam executar repetidamente blocos de instruções\n",
    "por um número definido de vezes ao até que uma dada condição seja atendida.\n",
    "\n",
    "- Laço while"
   ]
  },
  {
   "cell_type": "code",
   "execution_count": 19,
   "metadata": {},
   "outputs": [
    {
     "name": "stdout",
     "output_type": "stream",
     "text": [
      "0\n",
      "2\n",
      "4\n",
      "6\n",
      "8\n",
      "10\n",
      "12\n",
      "14\n",
      "16\n",
      "18\n",
      "20\n",
      "22\n",
      "24\n",
      "26\n",
      "28\n"
     ]
    }
   ],
   "source": [
    "atual = 0\n",
    "n = 30\n",
    "while atual < n:\n",
    "    print(atual)\n",
    "    atual += 2"
   ]
  },
  {
   "cell_type": "markdown",
   "metadata": {},
   "source": [
    "## ESTRUTURAS DE REPETIÇÃO\n",
    "\n",
    "- Laço for"
   ]
  },
  {
   "cell_type": "code",
   "execution_count": 20,
   "metadata": {},
   "outputs": [
    {
     "name": "stdout",
     "output_type": "stream",
     "text": [
      "30\n",
      "60\n",
      "90\n",
      "120\n",
      "150\n",
      "180\n",
      "210\n",
      "240\n",
      "270\n",
      "300\n"
     ]
    }
   ],
   "source": [
    "soma = 0\n",
    "for cont in range(10):\n",
    "    n = 30\n",
    "    soma += n\n",
    "    print(soma)\n"
   ]
  },
  {
   "cell_type": "markdown",
   "metadata": {},
   "source": [
    "## INTERRUPÇÃO E CONTINUAÇÃO DO LAÇO DE REPETIÇÃO\n",
    "\n"
   ]
  },
  {
   "cell_type": "code",
   "execution_count": 2,
   "metadata": {},
   "outputs": [
    {
     "name": "stdout",
     "output_type": "stream",
     "text": [
      "Soma dos números: 0\n"
     ]
    }
   ],
   "source": [
    "soma = 0\n",
    "while True:\n",
    "    n = 0\n",
    "    if n == 0:\n",
    "        break\n",
    "    soma = soma + n\n",
    "print('Soma dos números:', soma)\n"
   ]
  },
  {
   "cell_type": "code",
   "execution_count": null,
   "metadata": {},
   "outputs": [],
   "source": [
    "soma = 0\n",
    "while True:\n",
    "    n = 20\n",
    "    if n < 0:\n",
    "        continue\n",
    "    if n == 0:\n",
    "        break\n",
    "    soma = soma + n\n",
    "print('Soma dos números:', soma)\n"
   ]
  },
  {
   "cell_type": "markdown",
   "metadata": {},
   "source": [
    "## Resolvendo problemas com estruturas de repetição\n",
    "\n",
    "- MDC pelo Algoritmo de Euclides"
   ]
  },
  {
   "cell_type": "code",
   "execution_count": 3,
   "metadata": {},
   "outputs": [
    {
     "name": "stdout",
     "output_type": "stream",
     "text": [
      "Informe dois números\n",
      "2 / 4 -> resto: 2\n",
      "4 / 2 -> resto: 0\n",
      "O MDC é  2\n"
     ]
    }
   ],
   "source": [
    " print('Informe dois números')\n",
    " n1 = 2\n",
    " n2 = 4\n",
    "  \n",
    " if n1 < 1 or n2 < 1:\n",
    "    print('Números inválidos para MDC')\n",
    " else:\n",
    "    while True:\n",
    "        resto = n1 % n2\n",
    "        print (n1, '/' , n2, '-> resto:', resto)\n",
    "        if resto == 0:\n",
    "            break\n",
    "        n1 = n2\n",
    "        n2 = resto\n",
    "    print('O MDC é ', n2)"
   ]
  },
  {
   "cell_type": "markdown",
   "metadata": {},
   "source": [
    "## TRATAMENTO DE EXCESSÕES\n",
    "\n",
    "- Instrução Try\n",
    "- Instrução except\n",
    "- Cláusula Type"
   ]
  },
  {
   "cell_type": "code",
   "execution_count": 4,
   "metadata": {},
   "outputs": [
    {
     "name": "stdout",
     "output_type": "stream",
     "text": [
      "Informe dois números\n",
      "resultado:  4\n"
     ]
    }
   ],
   "source": [
    "try:\n",
    "    print('Informe dois números') \n",
    "    n1 = 2 #seria input aqui mas o jupiter nao consegue lidar com input\n",
    "    n2 = 4\n",
    "    r = n1 / n2\n",
    "    print(f'resultado: ', n2)\n",
    "except:\n",
    "    print('Ocorreu um erro')"
   ]
  },
  {
   "cell_type": "code",
   "execution_count": 1,
   "metadata": {},
   "outputs": [
    {
     "name": "stdout",
     "output_type": "stream",
     "text": [
      "informe dois n\n",
      "resultado:  4\n"
     ]
    }
   ],
   "source": [
    "import math\n",
    "\n",
    "while True:\n",
    "    try:\n",
    "        print('informe dois n')\n",
    "        n1 = 2 # de novo deveria ser um input aqui\n",
    "        n2 = 4\n",
    "        r = n1/n2\n",
    "        print(f'resultado: ', n2)\n",
    "        break\n",
    "    except:\n",
    "        print(f'tente novamente')"
   ]
  },
  {
   "cell_type": "code",
   "execution_count": 4,
   "metadata": {},
   "outputs": [
    {
     "name": "stdout",
     "output_type": "stream",
     "text": [
      "digite dois numeros\n",
      "Ocorreu o erro:  <class 'ZeroDivisionError'>\n"
     ]
    }
   ],
   "source": [
    "import math \n",
    "\n",
    "while True:\n",
    "    try:\n",
    "        print(f'digite dois numeros')\n",
    "        n1 = 4\n",
    "        n2 = 0\n",
    "        r = n1 / n2\n",
    "        print(f'resultado: ', r)\n",
    "        break\n",
    "    except Exception as e:\n",
    "        print(f'Ocorreu o erro: ', type(e))\n",
    "        break"
   ]
  },
  {
   "cell_type": "code",
   "execution_count": 9,
   "metadata": {},
   "outputs": [
    {
     "name": "stdout",
     "output_type": "stream",
     "text": [
      "digite dois numeros\n",
      "resultado:  1.0\n"
     ]
    }
   ],
   "source": [
    "import math\n",
    "\n",
    "# se der run vai ficar iterando porque o n2 sempre vai ser 0, a menos que faça com input\n",
    "\n",
    "while True:\n",
    "    try:\n",
    "        print(f'digite dois numeros')\n",
    "        n1 = 2\n",
    "        n2 = 0\n",
    "        r = n1 / n2\n",
    "        print(f'resultado: ', r)\n",
    "        break\n",
    "    except ValueError as e:\n",
    "        print(e)\n",
    "        print(f'valor invalido!')\n",
    "    except ZeroDivisionError as e:\n",
    "        print(e)\n",
    "        print(f'não pode dividir por zero!')"
   ]
  },
  {
   "cell_type": "markdown",
   "metadata": {},
   "source": [
    "## MODULARIZAÇÃO\n",
    "\n",
    "A modularização consiste em dividir um algoritmo em partes menores chamadas\n",
    "sub-rotinas ou funções com o intuito de facilitar o desenvolvimento e a manutenção de\n",
    "código (BORGES, 2010). Considerando um problema grande a ser resolvido, as funções\n",
    "representam pequenas partes do problema maior com menor complexidade. Além disso,\n",
    "as funções podem ser trabalhadas de forma independente e a localização de erros se\n",
    "torna mais fácil.\n",
    "\n",
    "- Evita a reescrita desnecessária de códigos similares;\n",
    "- Melhora legibilidade do código\n",
    "- Permite desenvolvimento em equipe (cada programador cuida de um trecho do\n",
    "código)\n",
    "- As funções podem ser testadas isoladamente para verificação de erros;\n",
    "- A manutenção se torna mais fácil, apenas algumas partes podem precisar de\n",
    "alteração.\n",
    "\n",
    "## FUNÇÕES\n",
    "\n",
    "A criação de novas funções é feita com a instrução def, seguida pelo nome da\n",
    "função e seus parâmetros entre parênteses e dois pontos (:). A linha com a instrução def é\n",
    "chada de declaração ou cabeçalho da função. Tanto o nome da função e seus parâmetros\n",
    "devem obedecer às mesmas regras dos nomes de variáveis. Após a declaração,\n",
    "vem o chamado corpo da função com suas instruções endentadas. No corpo da função,\n",
    "quando a função precisar tiver que retornar algum valor, é usada a instrução return.\n",
    "\n"
   ]
  },
  {
   "cell_type": "markdown",
   "metadata": {},
   "source": []
  },
  {
   "cell_type": "code",
   "execution_count": 11,
   "metadata": {},
   "outputs": [
    {
     "name": "stdout",
     "output_type": "stream",
     "text": [
      "*****************************\n",
      "* OLÁ, BEM VINDO *\n",
      "*****************************\n"
     ]
    }
   ],
   "source": [
    "def olaFunction(): #boa pratica escrever nesse formato o nome da função.\n",
    "    print('*****************************')\n",
    "    print('* OLÁ, BEM VINDO *')\n",
    "    print('*****************************')\n",
    "\n",
    "olaFunction()\n"
   ]
  },
  {
   "cell_type": "markdown",
   "metadata": {},
   "source": [
    "## Passagem de parâmetros e retorno de resultado\n",
    "\n",
    "Na função que criei anteriormente, nenhum parametro é passado, as vezes é necessário que parametros sejam passados para funções exercerem papeis diferentes em cada chamada, os parametros são como variaveis já inicializadas na função.\n",
    "\n",
    "O próximo código usa função cubo(). A função recebe como\n",
    "parâmetro o número num e calcula o cubo do mesmo. Contudo, essa função ainda pode\n",
    "ser melhorada. Observe que não foi usada a instrução return para retornar o resultado do\n",
    "cálculo. A função está simplesmente escrevendo na tela. Assim, se modificarmos a função\n",
    "para retornar o resultado, teremos uma função mais útil. Isso porque podemos usar a\n",
    "função em qualquer lugar, sem ter que escrever na tela e usar seu resultado da maneira\n",
    "que for mais apropriada.\n",
    "\n",
    "Na função cubo(num), a variável num é um parâmetro da função. Isso significa que, quando você chama a função e passa um valor (neste caso, n), esse valor é atribuído ao parâmetro num. Assim, a função pode usá-lo para realizar o cálculo\n"
   ]
  },
  {
   "cell_type": "code",
   "execution_count": 16,
   "metadata": {},
   "outputs": [
    {
     "name": "stdout",
     "output_type": "stream",
     "text": [
      "O número n ao cubo é:  8\n",
      "o numero n elevado a nona é:  512\n"
     ]
    }
   ],
   "source": [
    "def cubo(num):\n",
    "    return num * num * num\n",
    "n = 2\n",
    "print(f'O número n ao cubo é: ', cubo(n))\n",
    "print(f'o numero n elevado a nona é: ', cubo(cubo(n)))"
   ]
  },
  {
   "cell_type": "markdown",
   "metadata": {},
   "source": [
    "## Nomes de parâmetros e parâmetros opcionais\n",
    "\n",
    "Na chamada de funções é possível, passar parâmetros em ordem diferente daquela\n",
    "especificada da declaração, desde que existam atribuições aos nomes dos parâmetros.\n",
    "Também podemos criar funções com parâmetros opcionais. Os parâmetros opcionais\n",
    "devem ser os últimos e devem ter um valor padrão já atribuído. Assim, na chamada da\n",
    "função, se o parâmetro opcional não for passado, será usado o valor padrão."
   ]
  },
  {
   "cell_type": "code",
   "execution_count": 17,
   "metadata": {},
   "outputs": [
    {
     "name": "stdout",
     "output_type": "stream",
     "text": [
      "calculo de juros\n",
      "O valor do juros é:  480.0\n"
     ]
    }
   ],
   "source": [
    "def juros(capital, taxa, tempo=12):\n",
    "    return capital * taxa * tempo / 100\n",
    "print(f'calculo de juros')\n",
    "cap = 2000\n",
    "tax = 2\n",
    "tem = '' #deixando em branco ele usa o valor padrão 12\n",
    "if tem == '':\n",
    "    jur = juros(cap, tax) # verifica se está em branco e passa como parametro somente capital e taxa.\n",
    "else:\n",
    "    jur = juros(cap, tax, tem)\n",
    "print(f'O valor do juros é: ', jur)"
   ]
  },
  {
   "cell_type": "markdown",
   "metadata": {},
   "source": [
    "## RECURSÃO\n",
    "\n",
    "É quando uma função chama a si mesma, uma ou mais vezes.\n",
    "\n",
    "Em muitas situações, funções\n",
    "recursivas podem ser mais intuitivas do que laços de repetição. Uma observação\n",
    "importante é que precisamos ter cuidado com a condição de parada, assim como fazemos\n",
    "nos laços de repetição. Caso contrário, podemos cair em uma recursão infinita que a\n",
    "função faz chamadas a ela mesma indefinidamente.\n",
    "\n",
    "Normalmente a iteração é mais rápida do que a recursão, consome menos recurso."
   ]
  },
  {
   "cell_type": "code",
   "execution_count": 18,
   "metadata": {},
   "outputs": [
    {
     "name": "stdout",
     "output_type": "stream",
     "text": [
      "o fatorial de n é:  2432902008176640000\n"
     ]
    }
   ],
   "source": [
    "def fat(num):\n",
    "    if num <= 1:\n",
    "        return 1\n",
    "    return num * fat(num - 1) # a função se chama para sempre verificar se o numero é menor ou igual a um, e repetir o processo até retornar 1.\n",
    "\n",
    "n = 20\n",
    "print(f'o fatorial de n é: ', fat(n)) # passando n como argumento, que vai subtituir o parametro num na função."
   ]
  },
  {
   "cell_type": "markdown",
   "metadata": {},
   "source": [
    "##  Módulos e bibliotecas\n",
    "\n",
    "Dependendo da quantidade de código, pode ser interessante a criar módulos para\n",
    "agrupar as funções correlacionadas. Normalmente, os módulos possuem apenas\n",
    "definições de funções ou outras estruturas e o código principal controla o fluxo de\n",
    "execução do código importando os módulos e chamando suas funções.\n",
    "Para exemplificar a criação de módulos, consideraremos o problema de calcular o\n",
    "cubo e o fatorial de um número. \\o próximo código mostra o módulo com as funções que realizam\n",
    "esses cálculos"
   ]
  },
  {
   "cell_type": "code",
   "execution_count": null,
   "metadata": {},
   "outputs": [],
   "source": [
    "def cubo(num):\n",
    "    return num * num * num\n",
    "\n",
    "def fat(num):\n",
    "    if num <= 1:\n",
    "        return 1\n",
    "    return num * fat(num-1)"
   ]
  },
  {
   "cell_type": "markdown",
   "metadata": {},
   "source": [
    "- Agora vamos o módulo principal para controlar fluxo de execução e efetua as chamadas as funções do módulo math.py\n",
    "- Considere a criação de outro arquivo no mesmo diretório do projeto chamado mat.py, com as funções acima"
   ]
  },
  {
   "cell_type": "code",
   "execution_count": 19,
   "metadata": {},
   "outputs": [
    {
     "name": "stdout",
     "output_type": "stream",
     "text": [
      "n ao cubo é:  8000\n",
      "fatorial de n é:  2432902008176640000\n"
     ]
    }
   ],
   "source": [
    "from mat import cubo, fat #importando as funções do módulo mat.py que criei no mesmo diretório dos arquivos do projeto.\n",
    "\n",
    "n = 20\n",
    "print(f'n ao cubo é: ', cubo(n))\n",
    "print(f'fatorial de n é: ', fat(n))"
   ]
  },
  {
   "cell_type": "markdown",
   "metadata": {},
   "source": [
    "## Decomposição de problemas\n",
    "\n",
    "A ideia aqui é quebrar um problema maior em problemas menores, parecido com a estratégia de dividir para conquistar.\n",
    "O autor constrói uma calculadora de expressões seguindo os pontos:\n",
    "-  A calculadora consiste em um console onde o usuário digita comandos;\n",
    "- O usuário pode digitar expressões aritméticas para serem calculadas, ver o histórico\n",
    "de expressões ou sair;\n",
    "- Os comandos h e s são usados respectivamente para histórico e sair\n",
    "- Deve ser realizado tratamento de exceção no cálculo da expressão digitada para\n",
    "garantir que a mesma não possuir erros\n",
    "- O histórico deve guardar apenas as expressões sem erros.\n",
    "\n",
    "A descrição da calculadora pode parecer muito complexa, mas vamos decompô-la\n",
    "em problemas menores para facilitar a implementação.\n",
    "\n",
    "Para facilitar um pouco mais a\n",
    "nossa vida, usaremos a função eval() do Python. Essa função é capaz de executar um\n",
    "texto como se fosse os códigos em Python. No caso de uma expressão aritmética, a\n",
    "função eval() retorna o resultado dessa expressão. Entretanto, se a expressão for possuir\n",
    "algum erro de sintaxe, ocorrerá um erro. Portanto, temos que fazer o tratamento de\n",
    "exceções ao executarmos a função eval().\n"
   ]
  },
  {
   "cell_type": "code",
   "execution_count": null,
   "metadata": {},
   "outputs": [],
   "source": [
    "def calcula(expr):\n",
    "    try:\n",
    "        return eval(expr):\n",
    "    except:\n",
    "        print(f'expressão inválida')\n",
    "        return None"
   ]
  },
  {
   "cell_type": "markdown",
   "metadata": {},
   "source": [
    "- Agora criaremos uma função para atualizar o histórico da calculadora."
   ]
  },
  {
   "cell_type": "code",
   "execution_count": null,
   "metadata": {},
   "outputs": [],
   "source": [
    "def historico(expr, res):\n",
    "    global HIST\n",
    "    if res is not None:\n",
    "        HIST += '\\n\\n' + expr\n",
    "        HIST +- '\\n' + str(res)"
   ]
  },
  {
   "cell_type": "markdown",
   "metadata": {},
   "source": [
    "A instrução global HIST é usada para podermos alterar a variável\n",
    "global HIST. Tal variável será declarada posteriormente para armazenar o histórico. Nesse\n",
    "problema estamos adotando maiúsculas para variáveis globais e minúsculas para variáveis\n",
    "locais. A função historico() recebe os parâmetros expr (texto da expressão calculada) e\n",
    "res (resultado do cálculo). O if faz um teste para verificar se a expressão é válida. O teste\n",
    "res is not None é usado para verificar se o resultado da expressão (res) é diferente de\n",
    "None. Dentro do if apenas adicionamos a expressão e seu resultado ao histórico.\n",
    "Utilizamos o '\\n' para separar as linhas do histórico.\n",
    "\n",
    "vamos escrever a função\n",
    "principal da calculadora que deverá gerenciar o fluxo de execução e chamar as funções\n",
    "auxiliares quando necessário."
   ]
  },
  {
   "cell_type": "code",
   "execution_count": null,
   "metadata": {},
   "outputs": [],
   "source": [
    "def principal():\n",
    "    while True:\n",
    "        print(f'informe a expressão matemática')\n",
    "        print(f'(h para histórico, s para sair)')\n",
    "        expr = input()\n",
    "        if expr.lower() == 's':\n",
    "            break\n",
    "        if expr.lower() == 'h':\n",
    "            print(HIST, '\\n')\n",
    "        else:\n",
    "            res = calcula(expr)\n",
    "            historico(expr, res)\n",
    "            print(res, '\\n')"
   ]
  },
  {
   "cell_type": "markdown",
   "metadata": {},
   "source": [
    "\n",
    "\n",
    "- Dessa forma, conseguimos quebrar o problema em problemas menores, porém ainda não é o suficiente para que a calculadora funcione, precisa declarar a variável global HIST e chamar a função principal(). Abaixo segue o código completo da calculadora, A variável\n",
    "global HIST é inicializada com um texto vazio. A instrução if __name__ == '__main__'\n",
    "utiliza a variável especial __name__ do Python para verificar se o módulo foi executado\n",
    "como um script. Quando isso acontece o conteúdo dessa variável é '__main__'.\n"
   ]
  },
  {
   "cell_type": "code",
   "execution_count": 20,
   "metadata": {},
   "outputs": [
    {
     "name": "stdout",
     "output_type": "stream",
     "text": [
      "Informe a expressão matemática\n",
      "(h para histórico, s para sair)\n"
     ]
    }
   ],
   "source": [
    "# obs não dê run no jupiter.\n",
    "#!/usr/bin/python3\n",
    "# -*- coding: utf-8 -*-\n",
    "\n",
    "HIST = ''\n",
    "\n",
    "def calcula(expr):\n",
    "    try:\n",
    "        return eval(expr)\n",
    "    except:\n",
    "        print('Expressão inválida!')\n",
    "        return None\n",
    "\n",
    "def historico(expr, res):\n",
    "    global HIST\n",
    "    if res is not None:\n",
    "        HIST += '\\n\\n' + expr\n",
    "        HIST += '\\n' + str(res)\n",
    "\n",
    "def principal():\n",
    "    while True:\n",
    "        print('Informe a expressão matemática')\n",
    "        print('(h para histórico, s para sair)')\n",
    "        expr = input()\n",
    "        if expr.lower() == 's':\n",
    "            break\n",
    "        if expr.lower() == 'h':\n",
    "            print(HIST, '\\n')\n",
    "        else:\n",
    "            res = calcula(expr)\n",
    "            historico(expr, res)\n",
    "            print(res, '\\n')\n",
    "\n",
    "if __name__ == '__main__':\n",
    "    principal()\n"
   ]
  },
  {
   "cell_type": "markdown",
   "metadata": {},
   "source": [
    "## COLEÇÕES\n",
    "\n",
    "chamadas de coleções de dados, para agrupar diversos elementos de dados. A vantagem\n",
    "dessas estruturas está na facilidade de acesso e manipulação desses elementos de\n",
    "dados. Os principais tipos de coleções de dados são listas, tuplas, dicionários e conjuntos\n",
    "\n",
    "O código abaixo recebe o preço de 10 produtos e calcula o preço médio dos\n",
    "mesmos. Agora imagine que fosse necessário listar os produtos com preço acima da\n",
    "média. Como fazer isto de uma forma eficiente?\n",
    "\n"
   ]
  },
  {
   "cell_type": "code",
   "execution_count": null,
   "metadata": {},
   "outputs": [],
   "source": [
    "# obs: não dê run no jupiter\n",
    "\n",
    "soma = 0\n",
    "print('Informe o preço dos produtos')\n",
    "for cont in range(10):\n",
    "    mensagem = 'Produto ' + str(cont+1) + ': '\n",
    "    preco = float(input(mensagem))\n",
    "    soma += preco\n",
    "media = soma / 10\n",
    "print('O preço médio é', media)"
   ]
  },
  {
   "attachments": {
    "image-2.png": {
     "image/png": "[encoded data removed]"
    },
    "image.png": {
     "image/png": "[encoded data removed]"
    }
   },
   "cell_type": "markdown",
   "metadata": {},
   "source": [
    "## LISTAS\n",
    "\n",
    "As listas são estruturas dinâmicas e sequenciais de elementos (CORRÊA, 2020).\n",
    "Por ser dinâmica, podemos alterar a lista com a inclusão ou remoção de elementos. Além\n",
    "disso, por sua característica sequencial, dizemos que os elementos são indexados. Assim,\n",
    "podemos ler ou modificar os elementos da lista usando seu índice. O índice de um\n",
    "elemento é a sua posição dentro da lista, com a numeração começando em 0 (zero). A\n",
    "Figura 48 mostra uma representação de lista de números com suas respectivas posições.\n",
    "O elemento 10, por exemplo, está na posição 4.\n",
    "\n",
    "![image.png](attachment:image.png)\n",
    "\n",
    "Além disso, as listas possuem diversas funções para facilitar sua\n",
    "manipulação.\n",
    "\n",
    "![image-2.png](attachment:image-2.png)\n",
    "\n"
   ]
  },
  {
   "cell_type": "code",
   "execution_count": null,
   "metadata": {},
   "outputs": [],
   "source": [
    "# obs: não dê run no jupiter\n",
    "soma = 0\n",
    "lista_precos = []\n",
    "print('Informe o preço dos produtos')\n",
    "for cont in range(10):\n",
    "    mensagem = 'Produto ' + str(cont+1) + ': '\n",
    "    preco = float(input(mensagem))\n",
    "    soma += preco\n",
    "    lista_precos.append(preco)\n",
    "media = soma / 10\n",
    "print('O preço médio é', media)\n",
    "print(f'os preços acima da média são: ')\n",
    "for cont, preco in enumerate(lista_precos):\n",
    "    if preco > media:\n",
    "        print('produto', cont+1)\n",
    "        print('preço ', lista_precos[cont])"
   ]
  },
  {
   "cell_type": "markdown",
   "metadata": {},
   "source": [
    "- Inicializando uma lista com valores já existentes usando range"
   ]
  },
  {
   "cell_type": "code",
   "execution_count": 3,
   "metadata": {},
   "outputs": [
    {
     "name": "stdout",
     "output_type": "stream",
     "text": [
      "[0, 1, 2, 3, 4, 5, 6, 7, 8, 9]\n",
      "[0, 0, 0, 0, 0, 0, 0, 0, 0, 0]\n"
     ]
    }
   ],
   "source": [
    "lista = list(range(10))\n",
    "print(lista)\n",
    "\n",
    "# Lista de 10 posições com valores 0\n",
    "lista = [0]*10\n",
    "print(lista)"
   ]
  },
  {
   "cell_type": "markdown",
   "metadata": {},
   "source": [
    "- Inicializando com compressão, quebrando texto em lista com a função split(), e obtendo o tamanho da lista com a função len()"
   ]
  },
  {
   "cell_type": "code",
   "execution_count": 8,
   "metadata": {},
   "outputs": [
    {
     "name": "stdout",
     "output_type": "stream",
     "text": [
      "[0, 1, 2, 3, 4, 5, 6, 7, 8]\n",
      "['ola', 'eu', 'sou', 'o', 'Diego', 'Amorim']\n",
      "6\n"
     ]
    }
   ],
   "source": [
    " # Lista inicializada com números de 0 a 9\n",
    "lista = [n for n in range(9)]\n",
    "print(lista)\n",
    "# Leitura de string e com split\n",
    "texto = \"ola eu sou o Diego Amorim\"\n",
    "lista = [x for x in texto.split()]\n",
    "print(lista)\n",
    "print(len(lista))"
   ]
  }
 ],
 "metadata": {
  "kernelspec": {
   "display_name": "Python 3",
   "language": "python",
   "name": "python3"
  },
  "language_info": {
   "codemirror_mode": {
    "name": "ipython",
    "version": 3
   },
   "file_extension": ".py",
   "mimetype": "text/x-python",
   "name": "python",
   "nbconvert_exporter": "python",
   "pygments_lexer": "ipython3",
   "version": "3.13.0"
  }
 },
 "nbformat": 4,
 "nbformat_minor": 2
}
