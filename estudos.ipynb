{
 "cells": [
  {
   "cell_type": "code",
   "execution_count": 1,
   "metadata": {},
   "outputs": [
    {
     "name": "stdout",
     "output_type": "stream",
     "text": [
      "testando 2 4 6 True\n"
     ]
    }
   ],
   "source": [
    "n1 = 2\n",
    "n2 = 4\n",
    "n3 = 6\n",
    "test = True\n",
    "print(f\"testando\", n1, n2, n3, test)"
   ]
  },
  {
   "cell_type": "code",
   "execution_count": 3,
   "metadata": {},
   "outputs": [
    {
     "name": "stdout",
     "output_type": "stream",
     "text": [
      "2meio4final"
     ]
    }
   ],
   "source": [
    "print(n1, n2, sep='meio', end='final')"
   ]
  },
  {
   "cell_type": "code",
   "execution_count": 6,
   "metadata": {},
   "outputs": [
    {
     "name": "stdout",
     "output_type": "stream",
     "text": [
      "10 // 3 = 3\n",
      "10 % 3 = 1\n",
      "2.34 * 2.58 = 6.0371999999999995\n",
      "4 / 2 = 2.0\n",
      "(2 + 3) * (3 - 1) = 10\n"
     ]
    }
   ],
   "source": [
    "n1 = 10 // 3\n",
    "print('10 // 3 =', n1)\n",
    "n1 = 10 % 3\n",
    "print('10 % 3 =', n1)\n",
    "nr = 2.34 * 2.58\n",
    "print('2.34 * 2.58 =', nr)\n",
    "nr = 4 / 2\n",
    "print('4 / 2 =', nr)\n",
    "nr = (2 + 3) * (3 - 1)\n",
    "print('(2 + 3) * (3 - 1) =', nr)"
   ]
  },
  {
   "cell_type": "code",
   "execution_count": 7,
   "metadata": {},
   "outputs": [
    {
     "name": "stdout",
     "output_type": "stream",
     "text": [
      "informe os dados\n"
     ]
    }
   ],
   "source": [
    "print('informe os dados')\n",
    "nome = input('nome: ')\n",
    "sobrenome = input('sobrenome: ')\n",
    "idade = int(input('idade: '))\n",
    "\n",
    "print(nome + ' ' + sobrenome + ', ' + idade)\n",
    "\n",
    "#não dê run no jupiter."
   ]
  },
  {
   "cell_type": "markdown",
   "metadata": {},
   "source": [
    "## USANDO A BIBLIOTECA MATH"
   ]
  },
  {
   "cell_type": "code",
   "execution_count": 17,
   "metadata": {},
   "outputs": [
    {
     "name": "stdout",
     "output_type": "stream",
     "text": [
      "Vamos calcular uma equação do segundo grau\n",
      "Valor de delta: -31\n",
      "A equação não possui raízes reais.\n"
     ]
    }
   ],
   "source": [
    "import math\n",
    "\n",
    "print(\"Vamos calcular uma equação do segundo grau\")\n",
    "A = 2\n",
    "B = 3\n",
    "C = 5\n",
    "\n",
    "if A != 0:\n",
    "    delta = (B**2 - (4 * A * C))  # Cálculo do discriminante\n",
    "    \n",
    "    print(f\"Valor de delta: {delta}\")  # Para depuração, para saber o valor exato de delta\n",
    "\n",
    "    if delta < 0:\n",
    "        print(\"A equação não possui raízes reais.\")\n",
    "    elif delta == 0:\n",
    "        print(\"A equação possui uma raiz única.\")\n",
    "        x = -B / (2 * A)\n",
    "        print(\"Raiz única: \", x)\n",
    "    else:\n",
    "        x1 = (-B + math.sqrt(delta)) / (2 * A)\n",
    "        x2 = (-B - math.sqrt(delta)) / (2 * A)\n",
    "\n",
    "        print(\"Raiz 1: \", x1)\n",
    "        print(\"Raiz 2: \", x2)\n"
   ]
  },
  {
   "cell_type": "markdown",
   "metadata": {},
   "source": [
    "## ESTRUTURAS DE REPETIÇÃO\n",
    "\n",
    "- As estruturas de repetição possibilitam executar repetidamente blocos de instruções\n",
    "por um número definido de vezes ao até que uma dada condição seja atendida.\n",
    "\n",
    "- Laço while"
   ]
  },
  {
   "cell_type": "code",
   "execution_count": 19,
   "metadata": {},
   "outputs": [
    {
     "name": "stdout",
     "output_type": "stream",
     "text": [
      "0\n",
      "2\n",
      "4\n",
      "6\n",
      "8\n",
      "10\n",
      "12\n",
      "14\n",
      "16\n",
      "18\n",
      "20\n",
      "22\n",
      "24\n",
      "26\n",
      "28\n"
     ]
    }
   ],
   "source": [
    "atual = 0\n",
    "n = 30\n",
    "while atual < n:\n",
    "    print(atual)\n",
    "    atual += 2"
   ]
  },
  {
   "cell_type": "markdown",
   "metadata": {},
   "source": [
    "## ESTRUTURAS DE REPETIÇÃO\n",
    "\n",
    "- Laço for"
   ]
  },
  {
   "cell_type": "code",
   "execution_count": 20,
   "metadata": {},
   "outputs": [
    {
     "name": "stdout",
     "output_type": "stream",
     "text": [
      "30\n",
      "60\n",
      "90\n",
      "120\n",
      "150\n",
      "180\n",
      "210\n",
      "240\n",
      "270\n",
      "300\n"
     ]
    }
   ],
   "source": [
    "soma = 0\n",
    "for cont in range(10):\n",
    "    n = 30\n",
    "    soma += n\n",
    "    print(soma)\n"
   ]
  },
  {
   "cell_type": "markdown",
   "metadata": {},
   "source": [
    "## INTERRUPÇÃO E CONTINUAÇÃO DO LAÇO DE REPETIÇÃO\n",
    "\n"
   ]
  },
  {
   "cell_type": "code",
   "execution_count": 2,
   "metadata": {},
   "outputs": [
    {
     "name": "stdout",
     "output_type": "stream",
     "text": [
      "Soma dos números: 0\n"
     ]
    }
   ],
   "source": [
    "soma = 0\n",
    "while True:\n",
    "    n = 0\n",
    "    if n == 0:\n",
    "        break\n",
    "    soma = soma + n\n",
    "print('Soma dos números:', soma)\n"
   ]
  },
  {
   "cell_type": "code",
   "execution_count": null,
   "metadata": {},
   "outputs": [],
   "source": [
    "soma = 0\n",
    "while True:\n",
    "    n = 20\n",
    "    if n < 0:\n",
    "        continue\n",
    "    if n == 0:\n",
    "        break\n",
    "    soma = soma + n\n",
    "print('Soma dos números:', soma)\n"
   ]
  },
  {
   "cell_type": "markdown",
   "metadata": {},
   "source": [
    "## Resolvendo problemas com estruturas de repetição"
   ]
  },
  {
   "cell_type": "code",
   "execution_count": null,
   "metadata": {},
   "outputs": [],
   "source": []
  }
 ],
 "metadata": {
  "kernelspec": {
   "display_name": "Python 3",
   "language": "python",
   "name": "python3"
  },
  "language_info": {
   "codemirror_mode": {
    "name": "ipython",
    "version": 3
   },
   "file_extension": ".py",
   "mimetype": "text/x-python",
   "name": "python",
   "nbconvert_exporter": "python",
   "pygments_lexer": "ipython3",
   "version": "3.13.0"
  }
 },
 "nbformat": 4,
 "nbformat_minor": 2
}
